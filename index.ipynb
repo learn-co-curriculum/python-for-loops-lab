{
 "cells": [
  {
   "cell_type": "markdown",
   "metadata": {},
   "source": [
    "# For loops"
   ]
  },
  {
   "cell_type": "markdown",
   "metadata": {},
   "source": [
    "### Learning Objectives"
   ]
  },
  {
   "cell_type": "markdown",
   "metadata": {},
   "source": [
    "* Understand the components of a point in a graph, an $x$ value, and a $y$ value \n",
    "* Understand how to plot a point on a graph, from a point's $x$ and $y$ value\n",
    "* Get a sense of how to use a graphing library, like Plotly, to answer questions about our data"
   ]
  },
  {
   "cell_type": "markdown",
   "metadata": {},
   "source": [
    "### Picking up where we last left off"
   ]
  },
  {
   "cell_type": "markdown",
   "metadata": {},
   "source": [
    "In the last lesson, we plotted some of our travel data."
   ]
  },
  {
   "cell_type": "code",
   "execution_count": 15,
   "metadata": {},
   "outputs": [],
   "source": [
    "import pandas\n",
    "file_name = './cities.xlsx'\n",
    "travel_df = pandas.read_excel(file_name)\n",
    "cities = travel_df.to_dict('records')"
   ]
  },
  {
   "cell_type": "code",
   "execution_count": 16,
   "metadata": {},
   "outputs": [
    {
     "data": {
      "text/html": [
       "<script>requirejs.config({paths: { 'plotly': ['https://cdn.plot.ly/plotly-latest.min']},});if(!window.Plotly) {{require(['plotly'],function(plotly) {window.Plotly=plotly;});}}</script>"
      ],
      "text/vnd.plotly.v1+html": [
       "<script>requirejs.config({paths: { 'plotly': ['https://cdn.plot.ly/plotly-latest.min']},});if(!window.Plotly) {{require(['plotly'],function(plotly) {window.Plotly=plotly;});}}</script>"
      ]
     },
     "metadata": {},
     "output_type": "display_data"
    },
    {
     "data": {
      "application/vnd.plotly.v1+json": {
       "data": [
        {
         "type": "bar",
         "x": [
          "Solta",
          "Greenville",
          "Buenos Aires"
         ],
         "y": [
          1700,
          84554,
          13591863
         ]
        }
       ],
       "layout": {}
      },
      "text/html": [
       "<div id=\"d4bbc886-7d09-4d43-9746-6290349775dd\" style=\"height: 525px; width: 100%;\" class=\"plotly-graph-div\"></div><script type=\"text/javascript\">require([\"plotly\"], function(Plotly) { window.PLOTLYENV=window.PLOTLYENV || {};window.PLOTLYENV.BASE_URL=\"https://plot.ly\";Plotly.newPlot(\"d4bbc886-7d09-4d43-9746-6290349775dd\", [{\"x\": [\"Solta\", \"Greenville\", \"Buenos Aires\"], \"y\": [1700, 84554, 13591863], \"type\": \"bar\"}], {}, {\"showLink\": true, \"linkText\": \"Export to plot.ly\"})});</script>"
      ],
      "text/vnd.plotly.v1+html": [
       "<div id=\"d4bbc886-7d09-4d43-9746-6290349775dd\" style=\"height: 525px; width: 100%;\" class=\"plotly-graph-div\"></div><script type=\"text/javascript\">require([\"plotly\"], function(Plotly) { window.PLOTLYENV=window.PLOTLYENV || {};window.PLOTLYENV.BASE_URL=\"https://plot.ly\";Plotly.newPlot(\"d4bbc886-7d09-4d43-9746-6290349775dd\", [{\"x\": [\"Solta\", \"Greenville\", \"Buenos Aires\"], \"y\": [1700, 84554, 13591863], \"type\": \"bar\"}], {}, {\"showLink\": true, \"linkText\": \"Export to plot.ly\"})});</script>"
      ]
     },
     "metadata": {},
     "output_type": "display_data"
    }
   ],
   "source": [
    "import plotly\n",
    "\n",
    "plotly.offline.init_notebook_mode(connected=True)\n",
    "\n",
    "x_values = [cities[0]['City'], cities[1]['City'], cities[2]['City']]\n",
    "y_values = [cities[0]['Population'], cities[1]['Population'], cities[2]['Population']]\n",
    "trace_first_three_pops = {'x': x_values, 'y': y_values, 'type': 'bar'}\n",
    "plotly.offline.iplot([trace_first_three_pops])"
   ]
  },
  {
   "cell_type": "markdown",
   "metadata": {},
   "source": [
    "In this lesson, we will use our `for` loop to display information about our travel locations."
   ]
  },
  {
   "cell_type": "markdown",
   "metadata": {},
   "source": [
    "### Introduction to the For Loop"
   ]
  },
  {
   "cell_type": "markdown",
   "metadata": {},
   "source": [
    "Our `cities` list contains information about the top 12 cities.  For our upcoming iteration tasks, it will be useful to have a list of the numbers 0 through 11.  Use what we know about `len` and `range`to generate a list of numbers 1 through 11.  Assign this to a variable called `city_indices`."
   ]
  },
  {
   "cell_type": "code",
   "execution_count": 17,
   "metadata": {},
   "outputs": [
    {
     "data": {
      "text/plain": [
       "[0, 1, 2, 3, 4, 5, 6, 7, 8, 9, 10, 11]"
      ]
     },
     "execution_count": 17,
     "metadata": {},
     "output_type": "execute_result"
    }
   ],
   "source": [
    "city_indices = list(range(0, len(cities)))\n",
    "city_indices # [0, 1, 2, 3, 4, 5, 6, 7, 8, 9, 10, 11]"
   ]
  },
  {
   "cell_type": "markdown",
   "metadata": {},
   "source": [
    "Now we want to create labels for each of the cities. We'll provide a list of the `citie_names` for you. "
   ]
  },
  {
   "cell_type": "code",
   "execution_count": 18,
   "metadata": {},
   "outputs": [],
   "source": [
    "city_names = ['Solta', 'Greenville', 'Buenos Aires', 'Los Cabos', 'Walla Walla Valley', 'Marakesh', \n",
    "              'Albuquerque', 'Archipelago Sea', 'Iguazu Falls', 'Salina Island', 'Toronto', 'Pyeongchang']"
   ]
  },
  {
   "cell_type": "markdown",
   "metadata": {},
   "source": [
    "Your task is to assign the variable `text` equal to a list, with each element equal to the city name and it's corresponding rank.  For example, the first element would be, `\"1. Solta\"` and the second would be `\"2. Greenville\"`.  Use a `for` loop, `city_indices` and `city_names` to accomplish this."
   ]
  },
  {
   "cell_type": "code",
   "execution_count": 19,
   "metadata": {},
   "outputs": [],
   "source": [
    "names_and_ranks = []\n",
    "for i in city_indices:\n",
    "    names_and_ranks.append(str(i + 1) + \". \" + city_names[i])"
   ]
  },
  {
   "cell_type": "code",
   "execution_count": 20,
   "metadata": {},
   "outputs": [
    {
     "data": {
      "text/plain": [
       "'12. Pyeongchang'"
      ]
     },
     "execution_count": 20,
     "metadata": {},
     "output_type": "execute_result"
    }
   ],
   "source": [
    "names_and_ranks[0] # '1. Solta'\n",
    "names_and_ranks[-1] # '12. Pyeongchang'"
   ]
  },
  {
   "cell_type": "markdown",
   "metadata": {},
   "source": [
    "Ok, now let's create a new variable called `city_populations`.  Use a `for` loop to iterate through `cities` and have `city_populations` equal to each of the populations."
   ]
  },
  {
   "cell_type": "code",
   "execution_count": 21,
   "metadata": {},
   "outputs": [],
   "source": [
    "city_populations = []\n",
    "for city in cities:\n",
    "    city_populations.append(city['Population'])"
   ]
  },
  {
   "cell_type": "code",
   "execution_count": 22,
   "metadata": {},
   "outputs": [
    {
     "data": {
      "text/plain": [
       "[1700,\n",
       " 84554,\n",
       " 13591863,\n",
       " 287651,\n",
       " 32237,\n",
       " 928850,\n",
       " 559277,\n",
       " 60000,\n",
       " 0,\n",
       " 4000,\n",
       " 630,\n",
       " 2581000]"
      ]
     },
     "execution_count": 22,
     "metadata": {},
     "output_type": "execute_result"
    }
   ],
   "source": [
    "city_populations"
   ]
  },
  {
   "cell_type": "markdown",
   "metadata": {},
   "source": [
    "Great! Now we can begin to plot this data.  First, let's create a trace of our populations and set it to the variable `trace_populations`."
   ]
  },
  {
   "cell_type": "code",
   "execution_count": 23,
   "metadata": {},
   "outputs": [],
   "source": [
    "trace_populations = {'x': names_and_ranks, 'y': city_populations, 'text': names_and_ranks, 'type': 'bar', 'name': 'populations'}"
   ]
  },
  {
   "cell_type": "code",
   "execution_count": 24,
   "metadata": {},
   "outputs": [
    {
     "data": {
      "text/html": [
       "<script>requirejs.config({paths: { 'plotly': ['https://cdn.plot.ly/plotly-latest.min']},});if(!window.Plotly) {{require(['plotly'],function(plotly) {window.Plotly=plotly;});}}</script>"
      ],
      "text/vnd.plotly.v1+html": [
       "<script>requirejs.config({paths: { 'plotly': ['https://cdn.plot.ly/plotly-latest.min']},});if(!window.Plotly) {{require(['plotly'],function(plotly) {window.Plotly=plotly;});}}</script>"
      ]
     },
     "metadata": {},
     "output_type": "display_data"
    },
    {
     "data": {
      "application/vnd.plotly.v1+json": {
       "data": [
        {
         "name": "populations",
         "text": [
          "1. Solta",
          "2. Greenville",
          "3. Buenos Aires",
          "4. Los Cabos",
          "5. Walla Walla Valley",
          "6. Marakesh",
          "7. Albuquerque",
          "8. Archipelago Sea",
          "9. Iguazu Falls",
          "10. Salina Island",
          "11. Toronto",
          "12. Pyeongchang"
         ],
         "type": "bar",
         "x": [
          "1. Solta",
          "2. Greenville",
          "3. Buenos Aires",
          "4. Los Cabos",
          "5. Walla Walla Valley",
          "6. Marakesh",
          "7. Albuquerque",
          "8. Archipelago Sea",
          "9. Iguazu Falls",
          "10. Salina Island",
          "11. Toronto",
          "12. Pyeongchang"
         ],
         "y": [
          1700,
          84554,
          13591863,
          287651,
          32237,
          928850,
          559277,
          60000,
          0,
          4000,
          630,
          2581000
         ]
        }
       ],
       "layout": {}
      },
      "text/html": [
       "<div id=\"500723de-aa4f-4546-b3a4-c52daf34f5cc\" style=\"height: 525px; width: 100%;\" class=\"plotly-graph-div\"></div><script type=\"text/javascript\">require([\"plotly\"], function(Plotly) { window.PLOTLYENV=window.PLOTLYENV || {};window.PLOTLYENV.BASE_URL=\"https://plot.ly\";Plotly.newPlot(\"500723de-aa4f-4546-b3a4-c52daf34f5cc\", [{\"x\": [\"1. Solta\", \"2. Greenville\", \"3. Buenos Aires\", \"4. Los Cabos\", \"5. Walla Walla Valley\", \"6. Marakesh\", \"7. Albuquerque\", \"8. Archipelago Sea\", \"9. Iguazu Falls\", \"10. Salina Island\", \"11. Toronto\", \"12. Pyeongchang\"], \"y\": [1700, 84554, 13591863, 287651, 32237, 928850, 559277, 60000, 0, 4000, 630, 2581000], \"text\": [\"1. Solta\", \"2. Greenville\", \"3. Buenos Aires\", \"4. Los Cabos\", \"5. Walla Walla Valley\", \"6. Marakesh\", \"7. Albuquerque\", \"8. Archipelago Sea\", \"9. Iguazu Falls\", \"10. Salina Island\", \"11. Toronto\", \"12. Pyeongchang\"], \"type\": \"bar\", \"name\": \"populations\"}], {}, {\"showLink\": true, \"linkText\": \"Export to plot.ly\"})});</script>"
      ],
      "text/vnd.plotly.v1+html": [
       "<div id=\"500723de-aa4f-4546-b3a4-c52daf34f5cc\" style=\"height: 525px; width: 100%;\" class=\"plotly-graph-div\"></div><script type=\"text/javascript\">require([\"plotly\"], function(Plotly) { window.PLOTLYENV=window.PLOTLYENV || {};window.PLOTLYENV.BASE_URL=\"https://plot.ly\";Plotly.newPlot(\"500723de-aa4f-4546-b3a4-c52daf34f5cc\", [{\"x\": [\"1. Solta\", \"2. Greenville\", \"3. Buenos Aires\", \"4. Los Cabos\", \"5. Walla Walla Valley\", \"6. Marakesh\", \"7. Albuquerque\", \"8. Archipelago Sea\", \"9. Iguazu Falls\", \"10. Salina Island\", \"11. Toronto\", \"12. Pyeongchang\"], \"y\": [1700, 84554, 13591863, 287651, 32237, 928850, 559277, 60000, 0, 4000, 630, 2581000], \"text\": [\"1. Solta\", \"2. Greenville\", \"3. Buenos Aires\", \"4. Los Cabos\", \"5. Walla Walla Valley\", \"6. Marakesh\", \"7. Albuquerque\", \"8. Archipelago Sea\", \"9. Iguazu Falls\", \"10. Salina Island\", \"11. Toronto\", \"12. Pyeongchang\"], \"type\": \"bar\", \"name\": \"populations\"}], {}, {\"showLink\": true, \"linkText\": \"Export to plot.ly\"})});</script>"
      ]
     },
     "metadata": {},
     "output_type": "display_data"
    }
   ],
   "source": [
    "import plotly\n",
    "plotly.offline.init_notebook_mode(connected=True)\n",
    "plotly.offline.iplot([trace_populations])"
   ]
  },
  {
   "cell_type": "markdown",
   "metadata": {},
   "source": [
    "Now we want declare a variable called `city_areas` that points to a list of all of the areas of the cities.  Let's use a `for` loop to iterate through our `cities` and have `city_areas` equal to each area of the city.  "
   ]
  },
  {
   "cell_type": "code",
   "execution_count": 25,
   "metadata": {},
   "outputs": [],
   "source": [
    "city_areas = []\n",
    "for city in cities:\n",
    "    city_areas.append(city['Area'])"
   ]
  },
  {
   "cell_type": "code",
   "execution_count": 26,
   "metadata": {},
   "outputs": [],
   "source": [
    "trace_areas = {'x': names_and_ranks, 'y': city_areas, 'text': names_and_ranks, 'type': 'bar', 'name': 'areas'}"
   ]
  },
  {
   "cell_type": "code",
   "execution_count": 27,
   "metadata": {},
   "outputs": [
    {
     "data": {
      "text/html": [
       "<script>requirejs.config({paths: { 'plotly': ['https://cdn.plot.ly/plotly-latest.min']},});if(!window.Plotly) {{require(['plotly'],function(plotly) {window.Plotly=plotly;});}}</script>"
      ],
      "text/vnd.plotly.v1+html": [
       "<script>requirejs.config({paths: { 'plotly': ['https://cdn.plot.ly/plotly-latest.min']},});if(!window.Plotly) {{require(['plotly'],function(plotly) {window.Plotly=plotly;});}}</script>"
      ]
     },
     "metadata": {},
     "output_type": "display_data"
    },
    {
     "data": {
      "application/vnd.plotly.v1+json": {
       "data": [
        {
         "name": "populations",
         "text": [
          "1. Solta",
          "2. Greenville",
          "3. Buenos Aires",
          "4. Los Cabos",
          "5. Walla Walla Valley",
          "6. Marakesh",
          "7. Albuquerque",
          "8. Archipelago Sea",
          "9. Iguazu Falls",
          "10. Salina Island",
          "11. Toronto",
          "12. Pyeongchang"
         ],
         "type": "bar",
         "x": [
          "1. Solta",
          "2. Greenville",
          "3. Buenos Aires",
          "4. Los Cabos",
          "5. Walla Walla Valley",
          "6. Marakesh",
          "7. Albuquerque",
          "8. Archipelago Sea",
          "9. Iguazu Falls",
          "10. Salina Island",
          "11. Toronto",
          "12. Pyeongchang"
         ],
         "y": [
          1700,
          84554,
          13591863,
          287651,
          32237,
          928850,
          559277,
          60000,
          0,
          4000,
          630,
          2581000
         ]
        },
        {
         "name": "areas",
         "text": [
          "1. Solta",
          "2. Greenville",
          "3. Buenos Aires",
          "4. Los Cabos",
          "5. Walla Walla Valley",
          "6. Marakesh",
          "7. Albuquerque",
          "8. Archipelago Sea",
          "9. Iguazu Falls",
          "10. Salina Island",
          "11. Toronto",
          "12. Pyeongchang"
         ],
         "type": "bar",
         "x": [
          "1. Solta",
          "2. Greenville",
          "3. Buenos Aires",
          "4. Los Cabos",
          "5. Walla Walla Valley",
          "6. Marakesh",
          "7. Albuquerque",
          "8. Archipelago Sea",
          "9. Iguazu Falls",
          "10. Salina Island",
          "11. Toronto",
          "12. Pyeongchang"
         ],
         "y": [
          59,
          68,
          4758,
          3750,
          33,
          200,
          491,
          8300,
          672,
          27,
          2731571,
          3194
         ]
        }
       ],
       "layout": {}
      },
      "text/html": [
       "<div id=\"f4ec0c64-af30-428c-8c93-16eeb7f2d6bb\" style=\"height: 525px; width: 100%;\" class=\"plotly-graph-div\"></div><script type=\"text/javascript\">require([\"plotly\"], function(Plotly) { window.PLOTLYENV=window.PLOTLYENV || {};window.PLOTLYENV.BASE_URL=\"https://plot.ly\";Plotly.newPlot(\"f4ec0c64-af30-428c-8c93-16eeb7f2d6bb\", [{\"x\": [\"1. Solta\", \"2. Greenville\", \"3. Buenos Aires\", \"4. Los Cabos\", \"5. Walla Walla Valley\", \"6. Marakesh\", \"7. Albuquerque\", \"8. Archipelago Sea\", \"9. Iguazu Falls\", \"10. Salina Island\", \"11. Toronto\", \"12. Pyeongchang\"], \"y\": [1700, 84554, 13591863, 287651, 32237, 928850, 559277, 60000, 0, 4000, 630, 2581000], \"text\": [\"1. Solta\", \"2. Greenville\", \"3. Buenos Aires\", \"4. Los Cabos\", \"5. Walla Walla Valley\", \"6. Marakesh\", \"7. Albuquerque\", \"8. Archipelago Sea\", \"9. Iguazu Falls\", \"10. Salina Island\", \"11. Toronto\", \"12. Pyeongchang\"], \"type\": \"bar\", \"name\": \"populations\"}, {\"x\": [\"1. Solta\", \"2. Greenville\", \"3. Buenos Aires\", \"4. Los Cabos\", \"5. Walla Walla Valley\", \"6. Marakesh\", \"7. Albuquerque\", \"8. Archipelago Sea\", \"9. Iguazu Falls\", \"10. Salina Island\", \"11. Toronto\", \"12. Pyeongchang\"], \"y\": [59, 68, 4758, 3750, 33, 200, 491, 8300, 672, 27, 2731571, 3194], \"text\": [\"1. Solta\", \"2. Greenville\", \"3. Buenos Aires\", \"4. Los Cabos\", \"5. Walla Walla Valley\", \"6. Marakesh\", \"7. Albuquerque\", \"8. Archipelago Sea\", \"9. Iguazu Falls\", \"10. Salina Island\", \"11. Toronto\", \"12. Pyeongchang\"], \"type\": \"bar\", \"name\": \"areas\"}], {}, {\"showLink\": true, \"linkText\": \"Export to plot.ly\"})});</script>"
      ],
      "text/vnd.plotly.v1+html": [
       "<div id=\"f4ec0c64-af30-428c-8c93-16eeb7f2d6bb\" style=\"height: 525px; width: 100%;\" class=\"plotly-graph-div\"></div><script type=\"text/javascript\">require([\"plotly\"], function(Plotly) { window.PLOTLYENV=window.PLOTLYENV || {};window.PLOTLYENV.BASE_URL=\"https://plot.ly\";Plotly.newPlot(\"f4ec0c64-af30-428c-8c93-16eeb7f2d6bb\", [{\"x\": [\"1. Solta\", \"2. Greenville\", \"3. Buenos Aires\", \"4. Los Cabos\", \"5. Walla Walla Valley\", \"6. Marakesh\", \"7. Albuquerque\", \"8. Archipelago Sea\", \"9. Iguazu Falls\", \"10. Salina Island\", \"11. Toronto\", \"12. Pyeongchang\"], \"y\": [1700, 84554, 13591863, 287651, 32237, 928850, 559277, 60000, 0, 4000, 630, 2581000], \"text\": [\"1. Solta\", \"2. Greenville\", \"3. Buenos Aires\", \"4. Los Cabos\", \"5. Walla Walla Valley\", \"6. Marakesh\", \"7. Albuquerque\", \"8. Archipelago Sea\", \"9. Iguazu Falls\", \"10. Salina Island\", \"11. Toronto\", \"12. Pyeongchang\"], \"type\": \"bar\", \"name\": \"populations\"}, {\"x\": [\"1. Solta\", \"2. Greenville\", \"3. Buenos Aires\", \"4. Los Cabos\", \"5. Walla Walla Valley\", \"6. Marakesh\", \"7. Albuquerque\", \"8. Archipelago Sea\", \"9. Iguazu Falls\", \"10. Salina Island\", \"11. Toronto\", \"12. Pyeongchang\"], \"y\": [59, 68, 4758, 3750, 33, 200, 491, 8300, 672, 27, 2731571, 3194], \"text\": [\"1. Solta\", \"2. Greenville\", \"3. Buenos Aires\", \"4. Los Cabos\", \"5. Walla Walla Valley\", \"6. Marakesh\", \"7. Albuquerque\", \"8. Archipelago Sea\", \"9. Iguazu Falls\", \"10. Salina Island\", \"11. Toronto\", \"12. Pyeongchang\"], \"type\": \"bar\", \"name\": \"areas\"}], {}, {\"showLink\": true, \"linkText\": \"Export to plot.ly\"})});</script>"
      ]
     },
     "metadata": {},
     "output_type": "display_data"
    }
   ],
   "source": [
    "import plotly\n",
    "plotly.offline.init_notebook_mode(connected=True)\n",
    "plotly.offline.iplot([trace_populations, trace_areas])"
   ]
  },
  {
   "cell_type": "markdown",
   "metadata": {},
   "source": [
    "Ok, let's just plot the middle trace areas separately now."
   ]
  },
  {
   "cell_type": "code",
   "execution_count": 32,
   "metadata": {},
   "outputs": [],
   "source": [
    "middle_trace_areas = {'x': names_and_ranks[4:8], \n",
    "                      'y': city_areas[4:8], \n",
    "                      'type': 'bar', \n",
    "                      'name': 'area'}"
   ]
  },
  {
   "cell_type": "code",
   "execution_count": 33,
   "metadata": {},
   "outputs": [
    {
     "data": {
      "text/html": [
       "<script>requirejs.config({paths: { 'plotly': ['https://cdn.plot.ly/plotly-latest.min']},});if(!window.Plotly) {{require(['plotly'],function(plotly) {window.Plotly=plotly;});}}</script>"
      ],
      "text/vnd.plotly.v1+html": [
       "<script>requirejs.config({paths: { 'plotly': ['https://cdn.plot.ly/plotly-latest.min']},});if(!window.Plotly) {{require(['plotly'],function(plotly) {window.Plotly=plotly;});}}</script>"
      ]
     },
     "metadata": {},
     "output_type": "display_data"
    },
    {
     "data": {
      "application/vnd.plotly.v1+json": {
       "data": [
        {
         "name": "area",
         "type": "bar",
         "x": [
          "5. Walla Walla Valley",
          "6. Marakesh",
          "7. Albuquerque",
          "8. Archipelago Sea"
         ],
         "y": [
          33,
          200,
          491,
          8300
         ]
        },
        {
         "name": "population",
         "type": "bar",
         "x": [
          "5. Walla Walla Valley",
          "6. Marakesh",
          "7. Albuquerque",
          "8. Archipelago Sea"
         ],
         "y": [
          32237,
          928850,
          559277,
          60000
         ]
        }
       ],
       "layout": {}
      },
      "text/html": [
       "<div id=\"0b617815-364b-4a49-b65c-8bd34e57e181\" style=\"height: 525px; width: 100%;\" class=\"plotly-graph-div\"></div><script type=\"text/javascript\">require([\"plotly\"], function(Plotly) { window.PLOTLYENV=window.PLOTLYENV || {};window.PLOTLYENV.BASE_URL=\"https://plot.ly\";Plotly.newPlot(\"0b617815-364b-4a49-b65c-8bd34e57e181\", [{\"x\": [\"5. Walla Walla Valley\", \"6. Marakesh\", \"7. Albuquerque\", \"8. Archipelago Sea\"], \"y\": [33, 200, 491, 8300], \"type\": \"bar\", \"name\": \"area\"}, {\"x\": [\"5. Walla Walla Valley\", \"6. Marakesh\", \"7. Albuquerque\", \"8. Archipelago Sea\"], \"y\": [32237, 928850, 559277, 60000], \"type\": \"bar\", \"name\": \"population\"}], {}, {\"showLink\": true, \"linkText\": \"Export to plot.ly\"})});</script>"
      ],
      "text/vnd.plotly.v1+html": [
       "<div id=\"0b617815-364b-4a49-b65c-8bd34e57e181\" style=\"height: 525px; width: 100%;\" class=\"plotly-graph-div\"></div><script type=\"text/javascript\">require([\"plotly\"], function(Plotly) { window.PLOTLYENV=window.PLOTLYENV || {};window.PLOTLYENV.BASE_URL=\"https://plot.ly\";Plotly.newPlot(\"0b617815-364b-4a49-b65c-8bd34e57e181\", [{\"x\": [\"5. Walla Walla Valley\", \"6. Marakesh\", \"7. Albuquerque\", \"8. Archipelago Sea\"], \"y\": [33, 200, 491, 8300], \"type\": \"bar\", \"name\": \"area\"}, {\"x\": [\"5. Walla Walla Valley\", \"6. Marakesh\", \"7. Albuquerque\", \"8. Archipelago Sea\"], \"y\": [32237, 928850, 559277, 60000], \"type\": \"bar\", \"name\": \"population\"}], {}, {\"showLink\": true, \"linkText\": \"Export to plot.ly\"})});</script>"
      ]
     },
     "metadata": {},
     "output_type": "display_data"
    }
   ],
   "source": [
    "import plotly\n",
    "plotly.offline.init_notebook_mode(connected=True)\n",
    "plotly.offline.iplot([middle_trace_areas, middle_trace_populations])"
   ]
  },
  {
   "cell_type": "markdown",
   "metadata": {},
   "source": [
    "### Summary"
   ]
  },
  {
   "cell_type": "markdown",
   "metadata": {},
   "source": [
    "In this section we saw how we can use `for` loops to go through elements of a list and perform the same operation on each.  With using `for` loops we were able to be more expressive and reduce the amount of code we write."
   ]
  }
 ],
 "metadata": {
  "kernelspec": {
   "display_name": "Python 3",
   "language": "python",
   "name": "python3"
  },
  "language_info": {
   "codemirror_mode": {
    "name": "ipython",
    "version": 3
   },
   "file_extension": ".py",
   "mimetype": "text/x-python",
   "name": "python",
   "nbconvert_exporter": "python",
   "pygments_lexer": "ipython3",
   "version": "3.6.4"
  }
 },
 "nbformat": 4,
 "nbformat_minor": 2
}
